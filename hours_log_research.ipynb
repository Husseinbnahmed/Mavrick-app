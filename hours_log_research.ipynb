{
 "cells": [
  {
   "cell_type": "code",
   "execution_count": 1,
   "metadata": {},
   "outputs": [],
   "source": [
    "import pandas as pd\n",
    "import numpy as np"
   ]
  },
  {
   "cell_type": "code",
   "execution_count": 8,
   "metadata": {},
   "outputs": [],
   "source": [
    "def regular_overtime(hours):\n",
    "    \"\"\" calculates the number of hours worked\"\"\"\n",
    "    reg = 0\n",
    "    ot= 0\n",
    "\n",
    "    if hours <= 40:\n",
    "        reg = hours\n",
    "        ot = 0 \n",
    "    else:\n",
    "        reg = 40\n",
    "        ot = hours - 40\n",
    "    return (reg, ot)"
   ]
  },
  {
   "cell_type": "code",
   "execution_count": 11,
   "metadata": {},
   "outputs": [
    {
     "data": {
      "text/plain": [
       "(40, 20)"
      ]
     },
     "execution_count": 11,
     "metadata": {},
     "output_type": "execute_result"
    }
   ],
   "source": [
    "regular_overtime(60)"
   ]
  },
  {
   "cell_type": "code",
   "execution_count": null,
   "metadata": {},
   "outputs": [],
   "source": []
  }
 ],
 "metadata": {
  "kernelspec": {
   "display_name": "ML",
   "language": "python",
   "name": "python3"
  },
  "language_info": {
   "codemirror_mode": {
    "name": "ipython",
    "version": 3
   },
   "file_extension": ".py",
   "mimetype": "text/x-python",
   "name": "python",
   "nbconvert_exporter": "python",
   "pygments_lexer": "ipython3",
   "version": "3.9.15"
  },
  "orig_nbformat": 4,
  "vscode": {
   "interpreter": {
    "hash": "c8fb1b3a677c0f1991fa0db7fb91f9cc0219f3d5622745a048b8bc1f930e5b5f"
   }
  }
 },
 "nbformat": 4,
 "nbformat_minor": 2
}
